{
 "cells": [
  {
   "cell_type": "code",
   "execution_count": 1,
   "metadata": {},
   "outputs": [],
   "source": [
    "from transformers import AutoTokenizer, AutoModel, DataCollatorWithPadding\n",
    "from transformers.modeling_outputs import SequenceClassifierOutput\n",
    "import torch.nn.functional as F\n",
    "from torch import nn, tensor\n",
    "from torch.utils.data import DataLoader\n",
    "from torch.optim import AdamW, SGD\n",
    "from transformers import get_scheduler\n",
    "from tqdm.auto import tqdm\n",
    "import torch\n",
    "import matplotlib.pyplot as plt\n",
    "from sklearn.metrics import confusion_matrix, ConfusionMatrixDisplay\n",
    "import numpy as np\n",
    "import pandas as pd\n",
    "from datasets import Dataset"
   ]
  },
  {
   "cell_type": "code",
   "execution_count": 2,
   "metadata": {},
   "outputs": [],
   "source": [
    "checkpoint = \"distilbert-base-uncased\""
   ]
  },
  {
   "cell_type": "code",
   "execution_count": 3,
   "metadata": {},
   "outputs": [],
   "source": [
    "batch_size = 32"
   ]
  },
  {
   "cell_type": "markdown",
   "metadata": {
    "heading_collapsed": true,
    "tags": []
   },
   "source": [
    "# Prep training/validation data"
   ]
  },
  {
   "cell_type": "code",
   "execution_count": 4,
   "metadata": {
    "hidden": true
   },
   "outputs": [],
   "source": [
    "tokenizer = AutoTokenizer.from_pretrained(checkpoint)"
   ]
  },
  {
   "cell_type": "code",
   "execution_count": 104,
   "metadata": {
    "hidden": true
   },
   "outputs": [
    {
     "name": "stderr",
     "output_type": "stream",
     "text": [
      "Using custom data configuration default-15439ea571846005\n",
      "Reusing dataset csv (/home/.cache/huggingface/datasets/csv/default-15439ea571846005/0.0.0)\n",
      "Using custom data configuration default-15439ea571846005\n",
      "Reusing dataset csv (/home/.cache/huggingface/datasets/csv/default-15439ea571846005/0.0.0)\n"
     ]
    }
   ],
   "source": [
    "# Trial data\n",
    "data_train = Dataset.from_csv('data/trial.csv')\n",
    "data_valid = Dataset.from_csv('data/trial.csv')"
   ]
  },
  {
   "cell_type": "code",
   "execution_count": 34,
   "metadata": {
    "hidden": true
   },
   "outputs": [
    {
     "name": "stderr",
     "output_type": "stream",
     "text": [
      "Using custom data configuration default-73b8ef5064f2f716\n"
     ]
    },
    {
     "name": "stdout",
     "output_type": "stream",
     "text": [
      "Downloading and preparing dataset csv/default to /home/.cache/huggingface/datasets/csv/default-73b8ef5064f2f716/0.0.0...\n"
     ]
    },
    {
     "data": {
      "application/vnd.jupyter.widget-view+json": {
       "model_id": "ac23ecf8ca64420aa48f3e18ae6aba59",
       "version_major": 2,
       "version_minor": 0
      },
      "text/plain": [
       "Downloading data files:   0%|          | 0/1 [00:00<?, ?it/s]"
      ]
     },
     "metadata": {},
     "output_type": "display_data"
    },
    {
     "data": {
      "application/vnd.jupyter.widget-view+json": {
       "model_id": "4c48e71774f1485cb774338db460c236",
       "version_major": 2,
       "version_minor": 0
      },
      "text/plain": [
       "Extracting data files:   0%|          | 0/1 [00:00<?, ?it/s]"
      ]
     },
     "metadata": {},
     "output_type": "display_data"
    },
    {
     "name": "stderr",
     "output_type": "stream",
     "text": [
      "Using custom data configuration default-3d0cfcc255d4799d\n"
     ]
    },
    {
     "name": "stdout",
     "output_type": "stream",
     "text": [
      "Dataset csv downloaded and prepared to /home/.cache/huggingface/datasets/csv/default-73b8ef5064f2f716/0.0.0. Subsequent calls will reuse this data.\n",
      "Downloading and preparing dataset csv/default to /home/.cache/huggingface/datasets/csv/default-3d0cfcc255d4799d/0.0.0...\n"
     ]
    },
    {
     "data": {
      "application/vnd.jupyter.widget-view+json": {
       "model_id": "5714379076bf4a608134b35346b98cca",
       "version_major": 2,
       "version_minor": 0
      },
      "text/plain": [
       "Downloading data files:   0%|          | 0/1 [00:00<?, ?it/s]"
      ]
     },
     "metadata": {},
     "output_type": "display_data"
    },
    {
     "data": {
      "application/vnd.jupyter.widget-view+json": {
       "model_id": "582a4e98952b476b96bba98f3a70d540",
       "version_major": 2,
       "version_minor": 0
      },
      "text/plain": [
       "Extracting data files:   0%|          | 0/1 [00:00<?, ?it/s]"
      ]
     },
     "metadata": {},
     "output_type": "display_data"
    },
    {
     "name": "stdout",
     "output_type": "stream",
     "text": [
      "Dataset csv downloaded and prepared to /home/.cache/huggingface/datasets/csv/default-3d0cfcc255d4799d/0.0.0. Subsequent calls will reuse this data.\n"
     ]
    }
   ],
   "source": [
    "# Nano data\n",
    "data_train = Dataset.from_csv('data/train-nano.csv')\n",
    "data_valid = Dataset.from_csv('data/valid-nano.csv')"
   ]
  },
  {
   "cell_type": "code",
   "execution_count": 5,
   "metadata": {
    "hidden": true
   },
   "outputs": [
    {
     "name": "stderr",
     "output_type": "stream",
     "text": [
      "Using custom data configuration default-79c0171866d38de7\n",
      "Reusing dataset csv (/home/.cache/huggingface/datasets/csv/default-79c0171866d38de7/0.0.0)\n",
      "Using custom data configuration default-a3eb21c2d92fb711\n",
      "Reusing dataset csv (/home/.cache/huggingface/datasets/csv/default-a3eb21c2d92fb711/0.0.0)\n"
     ]
    }
   ],
   "source": [
    "# Micro data\n",
    "data_train = Dataset.from_csv('data/train-micro.csv')\n",
    "data_valid = Dataset.from_csv('data/valid-micro.csv')"
   ]
  },
  {
   "cell_type": "code",
   "execution_count": 100,
   "metadata": {
    "hidden": true
   },
   "outputs": [
    {
     "name": "stderr",
     "output_type": "stream",
     "text": [
      "Using custom data configuration default-daa4a8e33107a876\n",
      "Reusing dataset csv (/Users/rohanmitchell/.cache/huggingface/datasets/csv/default-daa4a8e33107a876/0.0.0)\n",
      "Using custom data configuration default-0f73ba8ec2b92be8\n",
      "Reusing dataset csv (/Users/rohanmitchell/.cache/huggingface/datasets/csv/default-0f73ba8ec2b92be8/0.0.0)\n"
     ]
    }
   ],
   "source": [
    "# Mini data\n",
    "data_train = Dataset.from_csv('data/train-mini.csv')\n",
    "data_valid = Dataset.from_csv('data/valid-mini.csv')"
   ]
  },
  {
   "cell_type": "code",
   "execution_count": 8,
   "metadata": {
    "hidden": true
   },
   "outputs": [
    {
     "name": "stderr",
     "output_type": "stream",
     "text": [
      "Using custom data configuration default-16496940b3cae9e5\n",
      "Reusing dataset csv (/home/.cache/huggingface/datasets/csv/default-16496940b3cae9e5/0.0.0)\n",
      "Using custom data configuration default-7fec7a7bbca81e52\n",
      "Reusing dataset csv (/home/.cache/huggingface/datasets/csv/default-7fec7a7bbca81e52/0.0.0)\n"
     ]
    }
   ],
   "source": [
    "# Full data\n",
    "data_train = Dataset.from_csv('data/train.csv')\n",
    "data_valid = Dataset.from_csv('data/valid.csv')"
   ]
  },
  {
   "cell_type": "code",
   "execution_count": 35,
   "metadata": {
    "hidden": true
   },
   "outputs": [],
   "source": [
    "def encode(sample):\n",
    "    return tokenizer(sample['text'], padding=True, truncation=True)"
   ]
  },
  {
   "cell_type": "code",
   "execution_count": 36,
   "metadata": {
    "hidden": true
   },
   "outputs": [
    {
     "data": {
      "application/vnd.jupyter.widget-view+json": {
       "model_id": "75eecbcb5fb9435da790543f1aa57f04",
       "version_major": 2,
       "version_minor": 0
      },
      "text/plain": [
       "  0%|          | 0/1 [00:00<?, ?ba/s]"
      ]
     },
     "metadata": {},
     "output_type": "display_data"
    }
   ],
   "source": [
    "data_train = data_train.map(encode, batched=True)"
   ]
  },
  {
   "cell_type": "code",
   "execution_count": 37,
   "metadata": {
    "hidden": true
   },
   "outputs": [
    {
     "data": {
      "application/vnd.jupyter.widget-view+json": {
       "model_id": "a48f8b9c05b548908c2f39467fe85e75",
       "version_major": 2,
       "version_minor": 0
      },
      "text/plain": [
       "  0%|          | 0/1 [00:00<?, ?ba/s]"
      ]
     },
     "metadata": {},
     "output_type": "display_data"
    }
   ],
   "source": [
    "data_valid = data_valid.map(encode, batched=True)"
   ]
  },
  {
   "cell_type": "code",
   "execution_count": 38,
   "metadata": {
    "hidden": true
   },
   "outputs": [],
   "source": [
    "data_train = data_train.remove_columns(['text'])\n",
    "data_valid = data_valid.remove_columns(['text'])\n",
    "data_train = data_train.rename_column('rating', 'labels')\n",
    "data_valid = data_valid.rename_column('rating', 'labels')\n",
    "data_train.set_format('torch')\n",
    "data_valid.set_format('torch')"
   ]
  },
  {
   "cell_type": "code",
   "execution_count": 39,
   "metadata": {
    "hidden": true
   },
   "outputs": [],
   "source": [
    "data_collator = DataCollatorWithPadding(tokenizer=tokenizer)\n",
    "train_dataloader = DataLoader(\n",
    "    data_train,\n",
    "    shuffle=True,\n",
    "    batch_size=batch_size,\n",
    "    collate_fn=data_collator\n",
    ")\n",
    "valid_dataloader = DataLoader(\n",
    "    data_valid,\n",
    "    batch_size=batch_size,\n",
    "    collate_fn=data_collator\n",
    ")"
   ]
  },
  {
   "cell_type": "code",
   "execution_count": 40,
   "metadata": {
    "hidden": true
   },
   "outputs": [],
   "source": [
    "num_tokens = data_train['input_ids'].shape[1]"
   ]
  },
  {
   "cell_type": "code",
   "execution_count": 41,
   "metadata": {
    "hidden": true
   },
   "outputs": [
    {
     "data": {
      "text/plain": [
       "(512, 30522)"
      ]
     },
     "execution_count": 41,
     "metadata": {},
     "output_type": "execute_result"
    }
   ],
   "source": [
    "num_tokens, tokenizer.vocab_size"
   ]
  },
  {
   "cell_type": "markdown",
   "metadata": {
    "tags": []
   },
   "source": [
    "# Define model"
   ]
  },
  {
   "cell_type": "code",
   "execution_count": 13,
   "metadata": {},
   "outputs": [],
   "source": [
    "class Lambda(nn.Module):\n",
    "    \"\"\"A neural network layer that applies the specified function to its inputs.\"\"\"\n",
    "    def __init__(self, func):\n",
    "        super().__init__()\n",
    "        self.func = func\n",
    "\n",
    "    def forward(self, x): return self.func(x)"
   ]
  },
  {
   "cell_type": "code",
   "execution_count": 14,
   "metadata": {},
   "outputs": [],
   "source": [
    "def print_shape(x):\n",
    "    print(x.shape)\n",
    "    return x\n",
    "\n",
    "def flatten(x):\n",
    "    return x.view(x.shape[0], -1)\n",
    "\n",
    "def squeeze(x):\n",
    "    return x.squeeze()"
   ]
  },
  {
   "cell_type": "code",
   "execution_count": 15,
   "metadata": {},
   "outputs": [],
   "source": [
    "# Experiment to reward the network for going more extreme\n",
    "# In retrospect, I think it'd work better to use softmax\n",
    "# and go for categorical results, but that would defeat\n",
    "# the purpose of this project (scalar ratings)\n",
    "def avoid_zero_mse_loss(output, target):\n",
    "    mse = F.mse_loss(output, target)\n",
    "    bias = (1 - output.abs()).sum().abs().clamp(-1, 1)\n",
    "    return mse + (bias * 10)"
   ]
  },
  {
   "cell_type": "code",
   "execution_count": 16,
   "metadata": {},
   "outputs": [],
   "source": [
    "class LinearModel(nn.Module):\n",
    "    EMBEDDING_SIZE = 16\n",
    "    HIDDEN_SIZE = 512\n",
    "    \n",
    "    \n",
    "    def __init__(self, num_tokens, vocab_size):\n",
    "        super(LinearModel, self).__init__()\n",
    "        self.model = nn.Sequential(\n",
    "            nn.Embedding(vocab_size, self.EMBEDDING_SIZE),\n",
    "            Lambda(flatten),\n",
    "            nn.ReLU(),\n",
    "            nn.Dropout(0.25),\n",
    "            nn.Linear(num_tokens*self.EMBEDDING_SIZE, self.HIDDEN_SIZE),\n",
    "            nn.ReLU(),\n",
    "            nn.Dropout(0.25),\n",
    "            nn.Linear(self.HIDDEN_SIZE, self.HIDDEN_SIZE),\n",
    "            nn.ReLU(),\n",
    "            nn.Dropout(0.25),\n",
    "            nn.Linear(self.HIDDEN_SIZE, 1),\n",
    "            Lambda(squeeze),\n",
    "        )\n",
    "        device = torch.device(\"cuda\") if torch.cuda.is_available() else torch.device(\"cpu\")\n",
    "        self.model.to(device)\n",
    "        self.loss = nn.MSELoss()\n",
    "\n",
    "    def forward(self, input_ids, attention_mask, labels=None):\n",
    "        outputs = self.model(input_ids)\n",
    "        \n",
    "        loss = None\n",
    "        if labels is not None:\n",
    "            loss = self.loss(outputs, labels)\n",
    "    \n",
    "        return SequenceClassifierOutput(loss=loss, logits=outputs)\n",
    "\n",
    "    def save(self, path):\n",
    "        torch.save(self.model.state_dict(), path)\n",
    "    \n",
    "    def load(self, path):\n",
    "        state = torch.load(path)\n",
    "        self.model.load_state_dict(state)"
   ]
  },
  {
   "cell_type": "code",
   "execution_count": 17,
   "metadata": {},
   "outputs": [],
   "source": [
    "class RegressiveTransformer(nn.Module):\n",
    "    TRANSFORMER_HIDDEN_SIZE = 768\n",
    "    LINEAR_HIDDEN_SIZE = 500\n",
    "    \n",
    "    def __init__(self, num_tokens):\n",
    "        super(RegressiveTransformer, self).__init__()\n",
    "        self.base_model = AutoModel.from_pretrained(checkpoint)\n",
    "        self.head = nn.Sequential(\n",
    "            nn.Linear(self.TRANSFORMER_HIDDEN_SIZE, self.LINEAR_HIDDEN_SIZE),\n",
    "            nn.LeakyReLU(),\n",
    "            nn.Linear(self.LINEAR_HIDDEN_SIZE, 1),\n",
    "            Lambda(flatten),\n",
    "            nn.LeakyReLU(),\n",
    "            nn.Linear(num_tokens, 1),\n",
    "            Lambda(flatten),\n",
    "            Lambda(squeeze),\n",
    "        )\n",
    "        \n",
    "        device = torch.device(\"cuda\") if torch.cuda.is_available() else torch.device(\"cpu\")\n",
    "        self.base_model.to(device)\n",
    "        self.head.to(device)\n",
    "        \n",
    "        self.loss = nn.MSELoss()\n",
    "        \n",
    "    def forward(self, input_ids, attention_mask, labels=None):\n",
    "        outputs = self.base_model(input_ids, attention_mask=attention_mask)\n",
    "        outputs = self.head(outputs[0])\n",
    "        \n",
    "        loss = None\n",
    "        if labels is not None:\n",
    "            loss = self.loss(outputs, labels)\n",
    "    \n",
    "        return SequenceClassifierOutput(loss=loss, logits=outputs)\n",
    "    \n",
    "    def freeze_base(self):\n",
    "        for param in self.base_model.parameters():\n",
    "            param.requires_grad = False\n",
    "    \n",
    "    def unfreeze_base(self):\n",
    "        for param in self.base_model.parameters():\n",
    "            param.requires_grad = True\n",
    "    \n",
    "    def save(self, path):\n",
    "        checkpoint = {\n",
    "            'base': self.base_model.state_dict(),\n",
    "            'head': self.head.state_dict(),\n",
    "        }\n",
    "        torch.save(checkpoint, path)\n",
    "    \n",
    "    def load(self, path):\n",
    "        checkpoint = torch.load(path)\n",
    "        self.base_model.load_state_dict(checkpoint['base'])\n",
    "        self.head.load_state_dict(checkpoint['head'])"
   ]
  },
  {
   "cell_type": "markdown",
   "metadata": {
    "heading_collapsed": true,
    "jp-MarkdownHeadingCollapsed": true,
    "tags": []
   },
   "source": [
    "# Test Model"
   ]
  },
  {
   "cell_type": "code",
   "execution_count": 199,
   "metadata": {
    "hidden": true
   },
   "outputs": [],
   "source": [
    "tokenizer = AutoTokenizer.from_pretrained(checkpoint)\n",
    "\n",
    "raw_inputs = [\n",
    "    \"Left left left\",\n",
    "    \"Right right right\",\n",
    "]\n",
    "inputs = tokenizer(raw_inputs, padding=True, truncation=True, return_tensors=\"pt\")"
   ]
  },
  {
   "cell_type": "code",
   "execution_count": 200,
   "metadata": {
    "hidden": true
   },
   "outputs": [
    {
     "data": {
      "text/plain": [
       "{'input_ids': tensor([[ 101, 2187, 2187, 2187,  102],\n",
       "        [ 101, 2157, 2157, 2157,  102]]), 'attention_mask': tensor([[1, 1, 1, 1, 1],\n",
       "        [1, 1, 1, 1, 1]])}"
      ]
     },
     "execution_count": 200,
     "metadata": {},
     "output_type": "execute_result"
    }
   ],
   "source": [
    "inputs"
   ]
  },
  {
   "cell_type": "code",
   "execution_count": 201,
   "metadata": {
    "hidden": true
   },
   "outputs": [],
   "source": [
    "num_tokens = inputs['input_ids'].shape[1]"
   ]
  },
  {
   "cell_type": "code",
   "execution_count": 202,
   "metadata": {
    "hidden": true
   },
   "outputs": [
    {
     "data": {
      "text/plain": [
       "torch.Size([2, 5])"
      ]
     },
     "execution_count": 202,
     "metadata": {},
     "output_type": "execute_result"
    }
   ],
   "source": [
    "inputs['input_ids'].shape"
   ]
  },
  {
   "cell_type": "code",
   "execution_count": 209,
   "metadata": {
    "hidden": true
   },
   "outputs": [
    {
     "data": {
      "text/plain": [
       "30522"
      ]
     },
     "execution_count": 209,
     "metadata": {},
     "output_type": "execute_result"
    }
   ],
   "source": [
    "tokenizer.vocab_size"
   ]
  },
  {
   "cell_type": "code",
   "execution_count": null,
   "metadata": {
    "hidden": true
   },
   "outputs": [],
   "source": [
    "model = RegressiveTransformer(num_tokens)\n",
    "\n",
    "outputs = model(**inputs)\n",
    "print(outputs)\n",
    "print(outputs.logits.size())"
   ]
  },
  {
   "cell_type": "code",
   "execution_count": 223,
   "metadata": {
    "hidden": true
   },
   "outputs": [
    {
     "data": {
      "text/plain": [
       "tensor([[ 1.1557, -1.5389,  0.1895, -0.7843,  0.1395],\n",
       "        [ 0.2366,  0.2738, -0.2696, -0.0122,  2.6147],\n",
       "        [-1.9680,  0.0860, -1.3859, -1.5596,  1.6392]],\n",
       "       grad_fn=<EmbeddingBackward0>)"
      ]
     },
     "execution_count": 223,
     "metadata": {},
     "output_type": "execute_result"
    }
   ],
   "source": [
    "e = nn.Embedding(3, 5)\n",
    "e.forward(torch.tensor([0, 1, 2]))"
   ]
  },
  {
   "cell_type": "code",
   "execution_count": 227,
   "metadata": {
    "hidden": true
   },
   "outputs": [
    {
     "data": {
      "text/plain": [
       "(2, 5)"
      ]
     },
     "execution_count": 227,
     "metadata": {},
     "output_type": "execute_result"
    }
   ],
   "source": [
    "len(raw_inputs), num_tokens"
   ]
  },
  {
   "cell_type": "code",
   "execution_count": 243,
   "metadata": {
    "hidden": true
   },
   "outputs": [
    {
     "name": "stdout",
     "output_type": "stream",
     "text": [
      "SequenceClassifierOutput(loss=None, logits=tensor([[-0.1613],\n",
      "        [-0.1300]], grad_fn=<AddmmBackward0>), hidden_states=None, attentions=None)\n",
      "torch.Size([2, 1])\n"
     ]
    }
   ],
   "source": [
    "model = LinearModel(num_tokens, tokenizer.vocab_size)\n",
    "\n",
    "outputs = model(**inputs)\n",
    "print(outputs)\n",
    "print(outputs.logits.size())"
   ]
  },
  {
   "cell_type": "markdown",
   "metadata": {
    "heading_collapsed": true,
    "tags": []
   },
   "source": [
    "# Define Trainer"
   ]
  },
  {
   "cell_type": "code",
   "execution_count": 18,
   "metadata": {
    "hidden": true
   },
   "outputs": [],
   "source": [
    "class Trainer:\n",
    "    def __init__(self, model, train_dataloader, valid_dataloader, lr=0.00001, acc_thresh=0.25):\n",
    "        self.model = model\n",
    "        self.train_dataloader = train_dataloader\n",
    "        self.valid_dataloader = valid_dataloader\n",
    "        self.optimizer = AdamW(model.parameters(), lr=lr)\n",
    "        #self.optimizer = SGD(model.parameters(), lr=lr)\n",
    "        self.acc_thresh = acc_thresh\n",
    "        self.device = torch.device(\"cuda\") if torch.cuda.is_available() else torch.device(\"cpu\")\n",
    "\n",
    "    def train(self, num_epochs, max_batches=None):\n",
    "        num_train_batches = min(len(self.train_dataloader), max_batches or float('inf'))\n",
    "        num_valid_batches = min(len(self.valid_dataloader), max_batches or float('inf'))\n",
    "        num_train_steps = num_epochs * num_train_batches\n",
    "        num_valid_steps = num_epochs * num_valid_batches\n",
    "        self.lr_scheduler = self.__get_scheduler(num_train_steps)\n",
    "        \n",
    "        outputs = []\n",
    "        losses = []\n",
    "        accuracies = []\n",
    "        means = []\n",
    "        stds = []\n",
    "        \n",
    "        self.train_progress = tqdm(range(num_train_steps))\n",
    "        self.train_progress.set_description('Training')\n",
    "        self.valid_progress = tqdm(range(num_valid_steps))\n",
    "        self.valid_progress.set_description('Validation')\n",
    "        for epoch in range(num_epochs):\n",
    "            epoch_losses = self.__train(max_batches)\n",
    "            epoch_outputs, epoch_accuracies, epoch_means, epoch_stds = self.__eval(max_batches)\n",
    "            outputs.extend(epoch_outputs)\n",
    "            losses.append(np.mean(epoch_losses))\n",
    "            accuracies.append(np.mean(epoch_accuracies))\n",
    "            means.extend(epoch_means)\n",
    "            stds.extend(epoch_stds)\n",
    "        \n",
    "        return {\n",
    "            'outputs': outputs,\n",
    "            'losses': losses,\n",
    "            'accuracies': accuracies,\n",
    "            'means': means,\n",
    "            'stds': stds,\n",
    "        }\n",
    "\n",
    "    def __train(self, max_batches=None):\n",
    "        losses = []\n",
    "        model.train()\n",
    "        for i, batch in enumerate(self.train_dataloader):\n",
    "            if max_batches and i >= max_batches: break\n",
    "            batch = {k: v.to(self.device) for k, v in batch.items()}\n",
    "            outputs = self.model(**batch)\n",
    "            loss = outputs.loss\n",
    "            losses.append(loss.item())\n",
    "            loss.backward()\n",
    "\n",
    "            self.optimizer.step()\n",
    "            self.lr_scheduler.step()\n",
    "            self.train_progress.update(1)\n",
    "        return losses\n",
    "\n",
    "    def __eval(self, max_batches=None):\n",
    "        accuracies = []\n",
    "        all_outputs = []\n",
    "        means = []\n",
    "        stds = []\n",
    "        \n",
    "        model.eval()\n",
    "        for i, batch in enumerate(self.valid_dataloader):\n",
    "            if max_batches and i >= max_batches: break\n",
    "            batch = {k: v.to(self.device) for k, v in batch.items()}\n",
    "            with torch.no_grad():\n",
    "                outputs = self.model(**batch)\n",
    "\n",
    "            # Record outputs\n",
    "            all_outputs.append(outputs.logits.squeeze().tolist())\n",
    "            \n",
    "            # Record accuracies\n",
    "            diffs = (batch['labels'] - outputs.logits).abs()\n",
    "            num_correct = torch.count_nonzero(diffs.where(diffs < self.acc_thresh, torch.zeros_like(diffs)))\n",
    "            accuracies.append((num_correct / float(batch['labels'].shape[0])).cpu())\n",
    "            \n",
    "            # Record mean and std for each label\n",
    "            d = pd.DataFrame({ 'label': batch['labels'].cpu(), 'output': outputs.logits.cpu() })\n",
    "            means.append(d.groupby('label').mean())\n",
    "            stds.append(d.groupby('label').std())\n",
    "            \n",
    "            self.valid_progress.update(1)\n",
    "        return (all_outputs, accuracies, means, stds)\n",
    "\n",
    "    def __get_scheduler(self, num_training_steps):\n",
    "        return get_scheduler(\n",
    "            \"cosine\",\n",
    "            optimizer=self.optimizer,\n",
    "            num_warmup_steps=50,\n",
    "            num_training_steps=num_training_steps,\n",
    "        )"
   ]
  },
  {
   "cell_type": "markdown",
   "metadata": {},
   "source": [
    "# Train"
   ]
  },
  {
   "cell_type": "code",
   "execution_count": 19,
   "metadata": {},
   "outputs": [],
   "source": [
    "def plot_results(results, smoothing_window=1):\n",
    "    window = [1/smoothing_window] * smoothing_window\n",
    "    plt.plot(np.convolve(results['losses'], window, 'valid'))\n",
    "    plt.plot(np.convolve(results['accuracies'], window, 'valid'))\n",
    "    plt.show()"
   ]
  },
  {
   "cell_type": "code",
   "execution_count": 20,
   "metadata": {},
   "outputs": [],
   "source": [
    "def plot_outputs(results):\n",
    "    plt.plot(results['outputs'])\n",
    "    plt.show()"
   ]
  },
  {
   "cell_type": "code",
   "execution_count": 21,
   "metadata": {},
   "outputs": [],
   "source": [
    "def build_confusion_matrix(model, dataset):\n",
    "    outputs = model(dataset['input_ids'], attention_mask=None).logits.squeeze().detach()\n",
    "    int_outputs = (outputs * 2).round().int().clamp(-2, 2)\n",
    "    int_labels = (data_valid['labels'] * 2).int()\n",
    "    return confusion_matrix(int_labels, int_outputs)"
   ]
  },
  {
   "cell_type": "code",
   "execution_count": 22,
   "metadata": {},
   "outputs": [],
   "source": [
    "def plot_confusion_matrix(matrix):\n",
    "    n_total = sum(sum(matrix))\n",
    "    n_acc = sum([matrix[i, i] for i in range(len(matrix))])\n",
    "    acc = int(n_acc / float(n_total) * 100)\n",
    "    print(f\"{n_acc} / {n_total} = {acc}%\")\n",
    "    disp = ConfusionMatrixDisplay(confusion_matrix=matrix)#, display_labels=[-2, -1, 0, 1, 2])\n",
    "    disp.plot()\n",
    "    plt.show()"
   ]
  },
  {
   "cell_type": "markdown",
   "metadata": {},
   "source": [
    "### Transformer"
   ]
  },
  {
   "cell_type": "code",
   "execution_count": 68,
   "metadata": {},
   "outputs": [
    {
     "name": "stderr",
     "output_type": "stream",
     "text": [
      "Some weights of the model checkpoint at distilbert-base-uncased were not used when initializing DistilBertModel: ['vocab_layer_norm.weight', 'vocab_projector.weight', 'vocab_layer_norm.bias', 'vocab_transform.bias', 'vocab_projector.bias', 'vocab_transform.weight']\n",
      "- This IS expected if you are initializing DistilBertModel from the checkpoint of a model trained on another task or with another architecture (e.g. initializing a BertForSequenceClassification model from a BertForPreTraining model).\n",
      "- This IS NOT expected if you are initializing DistilBertModel from the checkpoint of a model that you expect to be exactly identical (initializing a BertForSequenceClassification model from a BertForSequenceClassification model).\n"
     ]
    }
   ],
   "source": [
    "model = RegressiveTransformer(num_tokens)"
   ]
  },
  {
   "cell_type": "code",
   "execution_count": 69,
   "metadata": {},
   "outputs": [
    {
     "data": {
      "application/vnd.jupyter.widget-view+json": {
       "model_id": "8a3be5d89a2843969e978cf56bc6ff4a",
       "version_major": 2,
       "version_minor": 0
      },
      "text/plain": [
       "  0%|          | 0/600 [00:00<?, ?it/s]"
      ]
     },
     "metadata": {},
     "output_type": "display_data"
    },
    {
     "data": {
      "application/vnd.jupyter.widget-view+json": {
       "model_id": "58252412834347ea9d5fe278257a36be",
       "version_major": 2,
       "version_minor": 0
      },
      "text/plain": [
       "  0%|          | 0/300 [00:00<?, ?it/s]"
      ]
     },
     "metadata": {},
     "output_type": "display_data"
    }
   ],
   "source": [
    "trainer = Trainer(model, train_dataloader, valid_dataloader, lr=0.00001)\n",
    "results = trainer.train(300)"
   ]
  },
  {
   "cell_type": "code",
   "execution_count": 70,
   "metadata": {},
   "outputs": [
    {
     "data": {
      "image/png": "[encoded data removed]",
      "text/plain": [
       "<Figure size 432x288 with 1 Axes>"
      ]
     },
     "metadata": {
      "needs_background": "light"
     },
     "output_type": "display_data"
    }
   ],
   "source": [
    "means = [e.output.tolist() for e in results['means']]\n",
    "stds = [e.output.tolist() for e in results['stds']]\n",
    "plt.plot(means)\n",
    "#plt.plot(stds)\n",
    "plt.show()"
   ]
  },
  {
   "cell_type": "code",
   "execution_count": 71,
   "metadata": {},
   "outputs": [
    {
     "data": {
      "image/png": "[encoded data removed]",
      "text/plain": [
       "<Figure size 432x288 with 1 Axes>"
      ]
     },
     "metadata": {
      "needs_background": "light"
     },
     "output_type": "display_data"
    }
   ],
   "source": [
    "plot_results(results, 1)"
   ]
  },
  {
   "cell_type": "code",
   "execution_count": 72,
   "metadata": {},
   "outputs": [
    {
     "data": {
      "text/plain": [
       "(0.375,\n",
       " 0.25,\n",
       "          output\n",
       " label          \n",
       " -1.0  -0.147514\n",
       " -0.5  -0.126933\n",
       "  0.0  -0.073689\n",
       "  1.0  -0.084321,\n",
       "          output\n",
       " label          \n",
       " -1.0   0.279847\n",
       " -0.5   0.126831\n",
       "  0.0   0.203322\n",
       "  1.0   0.187402)"
      ]
     },
     "execution_count": 72,
     "metadata": {},
     "output_type": "execute_result"
    }
   ],
   "source": [
    "max(results['accuracies']), results['accuracies'][-1], results['means'][-1], results['stds'][-1]"
   ]
  },
  {
   "cell_type": "markdown",
   "metadata": {
    "heading_collapsed": true,
    "jp-MarkdownHeadingCollapsed": true,
    "tags": []
   },
   "source": [
    "### Linear"
   ]
  },
  {
   "cell_type": "code",
   "execution_count": 430,
   "metadata": {
    "hidden": true
   },
   "outputs": [],
   "source": [
    "model = LinearModel(num_tokens, tokenizer.vocab_size)"
   ]
  },
  {
   "cell_type": "code",
   "execution_count": 431,
   "metadata": {
    "hidden": true
   },
   "outputs": [],
   "source": [
    "cms = []\n",
    "all_results = []"
   ]
  },
  {
   "cell_type": "code",
   "execution_count": 432,
   "metadata": {
    "hidden": true
   },
   "outputs": [
    {
     "data": {
      "application/vnd.jupyter.widget-view+json": {
       "model_id": "0c8b12551fb9428781d3d7ebe329490b",
       "version_major": 2,
       "version_minor": 0
      },
      "text/plain": [
       "  0%|          | 0/1600 [00:00<?, ?it/s]"
      ]
     },
     "metadata": {},
     "output_type": "display_data"
    },
    {
     "data": {
      "application/vnd.jupyter.widget-view+json": {
       "model_id": "5c2b963f3a204871a3f783d6cd3714b4",
       "version_major": 2,
       "version_minor": 0
      },
      "text/plain": [
       "  0%|          | 0/800 [00:00<?, ?it/s]"
      ]
     },
     "metadata": {},
     "output_type": "display_data"
    }
   ],
   "source": [
    "# Display outputs over training\n",
    "trainer = Trainer(model, train_dataloader, valid_dataloader, lr=0.000001)\n",
    "results = trainer.train(200)"
   ]
  },
  {
   "cell_type": "code",
   "execution_count": 433,
   "metadata": {
    "hidden": true
   },
   "outputs": [
    {
     "data": {
      "image/png": "[encoded data removed]",
      "text/plain": [
       "<Figure size 432x288 with 1 Axes>"
      ]
     },
     "metadata": {
      "needs_background": "light"
     },
     "output_type": "display_data"
    }
   ],
   "source": [
    "means = [e.output.tolist() for e in results['means']]\n",
    "stds = [e.output.tolist() for e in results['stds']]\n",
    "plt.plot(means)\n",
    "#plt.plot(stds)\n",
    "plt.show()"
   ]
  },
  {
   "cell_type": "code",
   "execution_count": 434,
   "metadata": {
    "hidden": true
   },
   "outputs": [
    {
     "data": {
      "image/png": "[encoded data removed]",
      "text/plain": [
       "<Figure size 432x288 with 1 Axes>"
      ]
     },
     "metadata": {
      "needs_background": "light"
     },
     "output_type": "display_data"
    }
   ],
   "source": [
    "plot_results(results, 1)"
   ]
  },
  {
   "cell_type": "code",
   "execution_count": 422,
   "metadata": {
    "hidden": true
   },
   "outputs": [
    {
     "data": {
      "text/plain": [
       "(0.359375,\n",
       " 0.328125,\n",
       "          output\n",
       " label          \n",
       " -1.0  -0.324106\n",
       " -0.5  -0.277213\n",
       "  0.0   0.017900\n",
       "  1.0  -0.127725,\n",
       "          output\n",
       " label          \n",
       " -1.0   0.161546\n",
       " -0.5   0.267900\n",
       "  0.0   0.161532\n",
       "  1.0   0.237039)"
      ]
     },
     "execution_count": 422,
     "metadata": {},
     "output_type": "execute_result"
    }
   ],
   "source": [
    "max(results['accuracies']), results['accuracies'][-1], results['means'][-1], results['stds'][-1]"
   ]
  },
  {
   "cell_type": "markdown",
   "metadata": {
    "hidden": true
   },
   "source": [
    "---"
   ]
  },
  {
   "cell_type": "markdown",
   "metadata": {},
   "source": [
    "### Trials"
   ]
  },
  {
   "cell_type": "markdown",
   "metadata": {
    "hidden": true
   },
   "source": [
    "Transformer (with nano dataset):\n",
    "- AdamW, lr=0.00001, 300 epochs -> 38% (25%)\n",
    "\n",
    "Linear (with micro dataset): (last acc)\n",
    "- AdamW, lr=0.00001,  200 epochs -> 43% (39%)\n",
    "- AdamW, lr=0.00001,  500 epochs -> 43% (24%)\n",
    "- AdamW, lr=0.000001, 200 epochs -> 41% (40%)\n",
    "- AdamW, lr=0.000001, 500 epochs -> 45% (35%)\n",
    "- SGD,   lr=0.000001, 200 epochs -> 32% (21%)\n",
    "- SGD,   lr=0.00001,  200 epochs -> 41% (16%)\n",
    "- SGD,   lr=0.00001,  500 epochs -> 34% (30%)\n",
    "- SGD,   lr=0.000001, 500 epochs -> 37% (30%)"
   ]
  }
 ],
 "metadata": {
  "kernelspec": {
   "display_name": "Python 3 (ipykernel)",
   "language": "python",
   "name": "python3"
  },
  "language_info": {
   "codemirror_mode": {
    "name": "ipython",
    "version": 3
   },
   "file_extension": ".py",
   "mimetype": "text/x-python",
   "name": "python",
   "nbconvert_exporter": "python",
   "pygments_lexer": "ipython3",
   "version": "3.8.12"
  }
 },
 "nbformat": 4,
 "nbformat_minor": 4
}
