{
 "cells": [
  {
   "cell_type": "markdown",
   "metadata": {},
   "source": [
    "https://www.kaggle.com/datasets/snapcrack/all-the-news"
   ]
  },
  {
   "cell_type": "markdown",
   "metadata": {},
   "source": [
    "## Read media bias ratings"
   ]
  },
  {
   "cell_type": "code",
   "execution_count": 39,
   "metadata": {},
   "outputs": [],
   "source": [
    "import csv\n",
    "import pandas as pd\n",
    "import numpy as np\n",
    "import re"
   ]
  },
  {
   "cell_type": "code",
   "execution_count": 40,
   "metadata": {},
   "outputs": [],
   "source": [
    "media_bias = {}\n",
    "with open('media-bias.csv') as csvfile:\n",
    "    reader = csv.reader(csvfile)\n",
    "    for row in reader:\n",
    "        pub = re.sub(r\" \\(.*\\)\", '', row[0])\n",
    "        pub = re.sub(r\"^The \", '', pub)\n",
    "        media_bias[pub] = float(row[1])"
   ]
  },
  {
   "cell_type": "code",
   "execution_count": 41,
   "metadata": {},
   "outputs": [],
   "source": [
    "def get_media_bias(publication):\n",
    "    publication = re.sub(r\"^The \", '', publication)\n",
    "    publication = re.sub(r\"^Breitbart\", 'Breitbart News', publication)\n",
    "    publication = re.sub(r\"^Buzzfeed News\", 'BuzzFeed News', publication)\n",
    "    \n",
    "    try:\n",
    "        return media_bias[publication]\n",
    "    except KeyError:\n",
    "        return None"
   ]
  },
  {
   "cell_type": "markdown",
   "metadata": {},
   "source": [
    "## Read publication names"
   ]
  },
  {
   "cell_type": "code",
   "execution_count": 42,
   "metadata": {},
   "outputs": [],
   "source": [
    "publications = np.array([], dtype=object)"
   ]
  },
  {
   "cell_type": "code",
   "execution_count": 43,
   "metadata": {},
   "outputs": [
    {
     "data": {
      "text/plain": [
       "Index(['Unnamed: 0', 'id', 'title', 'publication', 'author', 'date', 'year',\n",
       "       'month', 'url', 'content'],\n",
       "      dtype='object')"
      ]
     },
     "execution_count": 43,
     "metadata": {},
     "output_type": "execute_result"
    }
   ],
   "source": [
    "news = pd.read_csv(f'data/articles1.csv')\n",
    "news.keys()"
   ]
  },
  {
   "cell_type": "code",
   "execution_count": 44,
   "metadata": {},
   "outputs": [],
   "source": [
    "news1 = pd.read_csv(f'data/articles1.csv')\n",
    "news2 = pd.read_csv(f'data/articles2.csv')\n",
    "news3 = pd.read_csv(f'data/articles3.csv')\n",
    "news4 = pd.read_csv(f'data/articles4.csv')\n",
    "news = pd.concat([news1, news2, news3, news4])"
   ]
  },
  {
   "cell_type": "code",
   "execution_count": 45,
   "metadata": {},
   "outputs": [
    {
     "data": {
      "text/plain": [
       "((242574, 12),\n",
       " Index(['Unnamed: 0', 'id', 'title', 'publication', 'author', 'date', 'year',\n",
       "        'month', 'url', 'content', 'day', 'section'],\n",
       "       dtype='object'))"
      ]
     },
     "execution_count": 45,
     "metadata": {},
     "output_type": "execute_result"
    }
   ],
   "source": [
    "news.shape, news.keys()"
   ]
  },
  {
   "cell_type": "code",
   "execution_count": 46,
   "metadata": {},
   "outputs": [
    {
     "data": {
      "text/html": [
       "<div>\n",
       "<style scoped>\n",
       "    .dataframe tbody tr th:only-of-type {\n",
       "        vertical-align: middle;\n",
       "    }\n",
       "\n",
       "    .dataframe tbody tr th {\n",
       "        vertical-align: top;\n",
       "    }\n",
       "\n",
       "    .dataframe thead th {\n",
       "        text-align: right;\n",
       "    }\n",
       "</style>\n",
       "<table border=\"1\" class=\"dataframe\">\n",
       "  <thead>\n",
       "    <tr style=\"text-align: right;\">\n",
       "      <th></th>\n",
       "      <th>Unnamed: 0</th>\n",
       "      <th>id</th>\n",
       "      <th>title</th>\n",
       "      <th>author</th>\n",
       "      <th>date</th>\n",
       "      <th>year</th>\n",
       "      <th>month</th>\n",
       "      <th>url</th>\n",
       "      <th>content</th>\n",
       "      <th>day</th>\n",
       "      <th>section</th>\n",
       "    </tr>\n",
       "    <tr>\n",
       "      <th>publication</th>\n",
       "      <th></th>\n",
       "      <th></th>\n",
       "      <th></th>\n",
       "      <th></th>\n",
       "      <th></th>\n",
       "      <th></th>\n",
       "      <th></th>\n",
       "      <th></th>\n",
       "      <th></th>\n",
       "      <th></th>\n",
       "      <th></th>\n",
       "    </tr>\n",
       "  </thead>\n",
       "  <tbody>\n",
       "    <tr>\n",
       "      <th>publication</th>\n",
       "      <td>0</td>\n",
       "      <td>0</td>\n",
       "      <td>4</td>\n",
       "      <td>4</td>\n",
       "      <td>4</td>\n",
       "      <td>4</td>\n",
       "      <td>4</td>\n",
       "      <td>4</td>\n",
       "      <td>4</td>\n",
       "      <td>4</td>\n",
       "      <td>4</td>\n",
       "    </tr>\n",
       "    <tr>\n",
       "      <th>Fox News</th>\n",
       "      <td>4354</td>\n",
       "      <td>4354</td>\n",
       "      <td>4354</td>\n",
       "      <td>1117</td>\n",
       "      <td>4352</td>\n",
       "      <td>4352</td>\n",
       "      <td>4352</td>\n",
       "      <td>4351</td>\n",
       "      <td>4354</td>\n",
       "      <td>0</td>\n",
       "      <td>0</td>\n",
       "    </tr>\n",
       "    <tr>\n",
       "      <th>Buzzfeed News</th>\n",
       "      <td>4854</td>\n",
       "      <td>4854</td>\n",
       "      <td>4854</td>\n",
       "      <td>4853</td>\n",
       "      <td>4854</td>\n",
       "      <td>4854</td>\n",
       "      <td>4854</td>\n",
       "      <td>4854</td>\n",
       "      <td>4854</td>\n",
       "      <td>0</td>\n",
       "      <td>0</td>\n",
       "    </tr>\n",
       "    <tr>\n",
       "      <th>Vox</th>\n",
       "      <td>4947</td>\n",
       "      <td>4947</td>\n",
       "      <td>4947</td>\n",
       "      <td>4947</td>\n",
       "      <td>4947</td>\n",
       "      <td>4947</td>\n",
       "      <td>4947</td>\n",
       "      <td>4947</td>\n",
       "      <td>4947</td>\n",
       "      <td>0</td>\n",
       "      <td>0</td>\n",
       "    </tr>\n",
       "    <tr>\n",
       "      <th>Talking Points Memo</th>\n",
       "      <td>5214</td>\n",
       "      <td>5214</td>\n",
       "      <td>5213</td>\n",
       "      <td>1676</td>\n",
       "      <td>2615</td>\n",
       "      <td>2615</td>\n",
       "      <td>2615</td>\n",
       "      <td>5214</td>\n",
       "      <td>5214</td>\n",
       "      <td>0</td>\n",
       "      <td>0</td>\n",
       "    </tr>\n",
       "    <tr>\n",
       "      <th>National Review</th>\n",
       "      <td>6203</td>\n",
       "      <td>6203</td>\n",
       "      <td>6203</td>\n",
       "      <td>6203</td>\n",
       "      <td>6203</td>\n",
       "      <td>6203</td>\n",
       "      <td>6203</td>\n",
       "      <td>6203</td>\n",
       "      <td>6203</td>\n",
       "      <td>0</td>\n",
       "      <td>0</td>\n",
       "    </tr>\n",
       "    <tr>\n",
       "      <th>Business Insider</th>\n",
       "      <td>6757</td>\n",
       "      <td>6757</td>\n",
       "      <td>6757</td>\n",
       "      <td>4950</td>\n",
       "      <td>6757</td>\n",
       "      <td>6757</td>\n",
       "      <td>6757</td>\n",
       "      <td>0</td>\n",
       "      <td>6757</td>\n",
       "      <td>0</td>\n",
       "      <td>0</td>\n",
       "    </tr>\n",
       "    <tr>\n",
       "      <th>Atlantic</th>\n",
       "      <td>7179</td>\n",
       "      <td>7179</td>\n",
       "      <td>7179</td>\n",
       "      <td>6199</td>\n",
       "      <td>7179</td>\n",
       "      <td>7179</td>\n",
       "      <td>7179</td>\n",
       "      <td>0</td>\n",
       "      <td>7179</td>\n",
       "      <td>0</td>\n",
       "      <td>0</td>\n",
       "    </tr>\n",
       "    <tr>\n",
       "      <th>New York Times</th>\n",
       "      <td>7803</td>\n",
       "      <td>7803</td>\n",
       "      <td>7803</td>\n",
       "      <td>7767</td>\n",
       "      <td>7803</td>\n",
       "      <td>7803</td>\n",
       "      <td>7803</td>\n",
       "      <td>0</td>\n",
       "      <td>7803</td>\n",
       "      <td>0</td>\n",
       "      <td>0</td>\n",
       "    </tr>\n",
       "    <tr>\n",
       "      <th>Guardian</th>\n",
       "      <td>8681</td>\n",
       "      <td>8681</td>\n",
       "      <td>8681</td>\n",
       "      <td>7250</td>\n",
       "      <td>8641</td>\n",
       "      <td>8641</td>\n",
       "      <td>8641</td>\n",
       "      <td>8681</td>\n",
       "      <td>8681</td>\n",
       "      <td>0</td>\n",
       "      <td>0</td>\n",
       "    </tr>\n",
       "    <tr>\n",
       "      <th>Reuters</th>\n",
       "      <td>10710</td>\n",
       "      <td>10710</td>\n",
       "      <td>10709</td>\n",
       "      <td>10710</td>\n",
       "      <td>10710</td>\n",
       "      <td>10710</td>\n",
       "      <td>10710</td>\n",
       "      <td>10710</td>\n",
       "      <td>10710</td>\n",
       "      <td>0</td>\n",
       "      <td>0</td>\n",
       "    </tr>\n",
       "    <tr>\n",
       "      <th>Washington Post</th>\n",
       "      <td>11114</td>\n",
       "      <td>11114</td>\n",
       "      <td>11114</td>\n",
       "      <td>11077</td>\n",
       "      <td>11114</td>\n",
       "      <td>11114</td>\n",
       "      <td>11114</td>\n",
       "      <td>11114</td>\n",
       "      <td>11114</td>\n",
       "      <td>0</td>\n",
       "      <td>0</td>\n",
       "    </tr>\n",
       "    <tr>\n",
       "      <th>CNN</th>\n",
       "      <td>11488</td>\n",
       "      <td>11488</td>\n",
       "      <td>11488</td>\n",
       "      <td>7025</td>\n",
       "      <td>11488</td>\n",
       "      <td>11488</td>\n",
       "      <td>11488</td>\n",
       "      <td>0</td>\n",
       "      <td>11488</td>\n",
       "      <td>0</td>\n",
       "      <td>0</td>\n",
       "    </tr>\n",
       "    <tr>\n",
       "      <th>NPR</th>\n",
       "      <td>11992</td>\n",
       "      <td>11992</td>\n",
       "      <td>11992</td>\n",
       "      <td>11654</td>\n",
       "      <td>11992</td>\n",
       "      <td>11992</td>\n",
       "      <td>11992</td>\n",
       "      <td>11992</td>\n",
       "      <td>11992</td>\n",
       "      <td>0</td>\n",
       "      <td>0</td>\n",
       "    </tr>\n",
       "    <tr>\n",
       "      <th>New York Post</th>\n",
       "      <td>17493</td>\n",
       "      <td>17493</td>\n",
       "      <td>17493</td>\n",
       "      <td>17485</td>\n",
       "      <td>17493</td>\n",
       "      <td>17493</td>\n",
       "      <td>17493</td>\n",
       "      <td>17493</td>\n",
       "      <td>17493</td>\n",
       "      <td>0</td>\n",
       "      <td>0</td>\n",
       "    </tr>\n",
       "    <tr>\n",
       "      <th>Axios</th>\n",
       "      <td>20000</td>\n",
       "      <td>0</td>\n",
       "      <td>20000</td>\n",
       "      <td>19993</td>\n",
       "      <td>20000</td>\n",
       "      <td>20000</td>\n",
       "      <td>20000</td>\n",
       "      <td>20000</td>\n",
       "      <td>19515</td>\n",
       "      <td>20000</td>\n",
       "      <td>0</td>\n",
       "    </tr>\n",
       "    <tr>\n",
       "      <th>CNBC</th>\n",
       "      <td>20000</td>\n",
       "      <td>0</td>\n",
       "      <td>20000</td>\n",
       "      <td>469</td>\n",
       "      <td>20000</td>\n",
       "      <td>20000</td>\n",
       "      <td>20000</td>\n",
       "      <td>20000</td>\n",
       "      <td>19889</td>\n",
       "      <td>20000</td>\n",
       "      <td>14675</td>\n",
       "    </tr>\n",
       "    <tr>\n",
       "      <th>Wired</th>\n",
       "      <td>20000</td>\n",
       "      <td>0</td>\n",
       "      <td>20000</td>\n",
       "      <td>19999</td>\n",
       "      <td>20000</td>\n",
       "      <td>20000</td>\n",
       "      <td>20000</td>\n",
       "      <td>20000</td>\n",
       "      <td>19942</td>\n",
       "      <td>20000</td>\n",
       "      <td>19969</td>\n",
       "    </tr>\n",
       "    <tr>\n",
       "      <th>TechCrunch</th>\n",
       "      <td>20000</td>\n",
       "      <td>0</td>\n",
       "      <td>20000</td>\n",
       "      <td>19991</td>\n",
       "      <td>20000</td>\n",
       "      <td>20000</td>\n",
       "      <td>20000</td>\n",
       "      <td>20000</td>\n",
       "      <td>19986</td>\n",
       "      <td>20000</td>\n",
       "      <td>0</td>\n",
       "    </tr>\n",
       "    <tr>\n",
       "      <th>The Hill</th>\n",
       "      <td>20000</td>\n",
       "      <td>0</td>\n",
       "      <td>20000</td>\n",
       "      <td>20000</td>\n",
       "      <td>20000</td>\n",
       "      <td>20000</td>\n",
       "      <td>20000</td>\n",
       "      <td>20000</td>\n",
       "      <td>20000</td>\n",
       "      <td>20000</td>\n",
       "      <td>0</td>\n",
       "    </tr>\n",
       "    <tr>\n",
       "      <th>Breitbart</th>\n",
       "      <td>23781</td>\n",
       "      <td>23781</td>\n",
       "      <td>23781</td>\n",
       "      <td>23781</td>\n",
       "      <td>23781</td>\n",
       "      <td>23781</td>\n",
       "      <td>23781</td>\n",
       "      <td>0</td>\n",
       "      <td>23781</td>\n",
       "      <td>0</td>\n",
       "      <td>0</td>\n",
       "    </tr>\n",
       "  </tbody>\n",
       "</table>\n",
       "</div>"
      ],
      "text/plain": [
       "                     Unnamed: 0     id  title  author   date   year  month  \\\n",
       "publication                                                                  \n",
       "publication                   0      0      4       4      4      4      4   \n",
       "Fox News                   4354   4354   4354    1117   4352   4352   4352   \n",
       "Buzzfeed News              4854   4854   4854    4853   4854   4854   4854   \n",
       "Vox                        4947   4947   4947    4947   4947   4947   4947   \n",
       "Talking Points Memo        5214   5214   5213    1676   2615   2615   2615   \n",
       "National Review            6203   6203   6203    6203   6203   6203   6203   \n",
       "Business Insider           6757   6757   6757    4950   6757   6757   6757   \n",
       "Atlantic                   7179   7179   7179    6199   7179   7179   7179   \n",
       "New York Times             7803   7803   7803    7767   7803   7803   7803   \n",
       "Guardian                   8681   8681   8681    7250   8641   8641   8641   \n",
       "Reuters                   10710  10710  10709   10710  10710  10710  10710   \n",
       "Washington Post           11114  11114  11114   11077  11114  11114  11114   \n",
       "CNN                       11488  11488  11488    7025  11488  11488  11488   \n",
       "NPR                       11992  11992  11992   11654  11992  11992  11992   \n",
       "New York Post             17493  17493  17493   17485  17493  17493  17493   \n",
       "Axios                     20000      0  20000   19993  20000  20000  20000   \n",
       "CNBC                      20000      0  20000     469  20000  20000  20000   \n",
       "Wired                     20000      0  20000   19999  20000  20000  20000   \n",
       "TechCrunch                20000      0  20000   19991  20000  20000  20000   \n",
       "The Hill                  20000      0  20000   20000  20000  20000  20000   \n",
       "Breitbart                 23781  23781  23781   23781  23781  23781  23781   \n",
       "\n",
       "                       url  content    day  section  \n",
       "publication                                          \n",
       "publication              4        4      4        4  \n",
       "Fox News              4351     4354      0        0  \n",
       "Buzzfeed News         4854     4854      0        0  \n",
       "Vox                   4947     4947      0        0  \n",
       "Talking Points Memo   5214     5214      0        0  \n",
       "National Review       6203     6203      0        0  \n",
       "Business Insider         0     6757      0        0  \n",
       "Atlantic                 0     7179      0        0  \n",
       "New York Times           0     7803      0        0  \n",
       "Guardian              8681     8681      0        0  \n",
       "Reuters              10710    10710      0        0  \n",
       "Washington Post      11114    11114      0        0  \n",
       "CNN                      0    11488      0        0  \n",
       "NPR                  11992    11992      0        0  \n",
       "New York Post        17493    17493      0        0  \n",
       "Axios                20000    19515  20000        0  \n",
       "CNBC                 20000    19889  20000    14675  \n",
       "Wired                20000    19942  20000    19969  \n",
       "TechCrunch           20000    19986  20000        0  \n",
       "The Hill             20000    20000  20000        0  \n",
       "Breitbart                0    23781      0        0  "
      ]
     },
     "execution_count": 46,
     "metadata": {},
     "output_type": "execute_result"
    }
   ],
   "source": [
    "news.groupby(by='publication').agg('count').sort_values('content')"
   ]
  },
  {
   "cell_type": "code",
   "execution_count": 47,
   "metadata": {},
   "outputs": [],
   "source": [
    "publications = news.publication.unique()"
   ]
  },
  {
   "cell_type": "code",
   "execution_count": 48,
   "metadata": {},
   "outputs": [
    {
     "data": {
      "text/plain": [
       "array(['New York Times', 'Breitbart', 'CNN', 'Business Insider',\n",
       "       'Atlantic', 'Fox News', 'Talking Points Memo', 'Buzzfeed News',\n",
       "       'National Review', 'New York Post', 'Guardian', 'NPR', 'Reuters',\n",
       "       'Vox', 'Washington Post', 'Axios', 'publication', 'CNBC',\n",
       "       'TechCrunch', 'The Hill', 'Wired'], dtype=object)"
      ]
     },
     "execution_count": 48,
     "metadata": {},
     "output_type": "execute_result"
    }
   ],
   "source": [
    "publications"
   ]
  },
  {
   "cell_type": "markdown",
   "metadata": {},
   "source": [
    "## Assess balance of biases"
   ]
  },
  {
   "cell_type": "code",
   "execution_count": 49,
   "metadata": {},
   "outputs": [
    {
     "data": {
      "text/plain": [
       "[(-1.0, 'Buzzfeed News'),\n",
       " (-1.0, 'CNN'),\n",
       " (-1.0, 'New York Times'),\n",
       " (-1.0, 'Vox'),\n",
       " (-0.5, 'Atlantic'),\n",
       " (-0.5, 'Guardian'),\n",
       " (-0.5, 'NPR'),\n",
       " (-0.5, 'Washington Post'),\n",
       " (0.0, 'Axios'),\n",
       " (0.0, 'CNBC'),\n",
       " (0.0, 'Reuters'),\n",
       " (0.0, 'TechCrunch'),\n",
       " (0.0, 'The Hill'),\n",
       " (0.0, 'Wired'),\n",
       " (1.0, 'Breitbart'),\n",
       " (1.0, 'Fox News'),\n",
       " (1.0, 'National Review'),\n",
       " (1.0, 'New York Post')]"
      ]
     },
     "execution_count": 49,
     "metadata": {},
     "output_type": "execute_result"
    }
   ],
   "source": [
    "sorted([(get_media_bias(p), p) for p in publications if get_media_bias(p) != None])"
   ]
  },
  {
   "cell_type": "code",
   "execution_count": 50,
   "metadata": {},
   "outputs": [
    {
     "data": {
      "text/plain": [
       "[]"
      ]
     },
     "execution_count": 50,
     "metadata": {},
     "output_type": "execute_result"
    }
   ],
   "source": [
    "[k for k in media_bias.keys() if re.match('talk', k, re.IGNORECASE)]"
   ]
  },
  {
   "cell_type": "markdown",
   "metadata": {},
   "source": [
    "## Split train/valid by publication"
   ]
  },
  {
   "cell_type": "code",
   "execution_count": 51,
   "metadata": {},
   "outputs": [],
   "source": [
    "validation_pubs = ['Vox', 'Washington Post', 'Wired', 'New York Post']"
   ]
  },
  {
   "cell_type": "code",
   "execution_count": 52,
   "metadata": {
    "tags": []
   },
   "outputs": [],
   "source": [
    "validation_news = news[news['publication'].isin(validation_pubs)]"
   ]
  },
  {
   "cell_type": "code",
   "execution_count": 80,
   "metadata": {},
   "outputs": [],
   "source": [
    "train_news = news[~news['publication'].isin(validation_pubs)]"
   ]
  },
  {
   "cell_type": "code",
   "execution_count": 81,
   "metadata": {},
   "outputs": [
    {
     "data": {
      "text/plain": [
       "(189020, 53554)"
      ]
     },
     "execution_count": 81,
     "metadata": {},
     "output_type": "execute_result"
    }
   ],
   "source": [
    "len(train_news), len(validation_news)"
   ]
  },
  {
   "cell_type": "markdown",
   "metadata": {},
   "source": [
    "## Write output"
   ]
  },
  {
   "cell_type": "code",
   "execution_count": 85,
   "metadata": {},
   "outputs": [],
   "source": [
    "def write_news(news, filename):\n",
    "    news['text'] = news['title'] + '. ' + news['content']\n",
    "    news['rating'] = news['publication'].map(get_media_bias)\n",
    "    news = news.dropna(subset=['text', 'rating'])\n",
    "    news[['text', 'rating']].to_csv(filename, index=False)"
   ]
  },
  {
   "cell_type": "code",
   "execution_count": 86,
   "metadata": {},
   "outputs": [
    {
     "name": "stderr",
     "output_type": "stream",
     "text": [
      "/var/folders/my/fr92fdxj5bl8w7ld3nv3s8p00000gn/T/ipykernel_13789/3155496935.py:2: SettingWithCopyWarning: \n",
      "A value is trying to be set on a copy of a slice from a DataFrame.\n",
      "Try using .loc[row_indexer,col_indexer] = value instead\n",
      "\n",
      "See the caveats in the documentation: https://pandas.pydata.org/pandas-docs/stable/user_guide/indexing.html#returning-a-view-versus-a-copy\n",
      "  news['text'] = news['title'] + '. ' + news['content']\n",
      "/var/folders/my/fr92fdxj5bl8w7ld3nv3s8p00000gn/T/ipykernel_13789/3155496935.py:3: SettingWithCopyWarning: \n",
      "A value is trying to be set on a copy of a slice from a DataFrame.\n",
      "Try using .loc[row_indexer,col_indexer] = value instead\n",
      "\n",
      "See the caveats in the documentation: https://pandas.pydata.org/pandas-docs/stable/user_guide/indexing.html#returning-a-view-versus-a-copy\n",
      "  news['rating'] = news['publication'].map(get_media_bias)\n"
     ]
    }
   ],
   "source": [
    "write_news(train_news, 'data/train.csv')"
   ]
  },
  {
   "cell_type": "code",
   "execution_count": 87,
   "metadata": {},
   "outputs": [
    {
     "name": "stderr",
     "output_type": "stream",
     "text": [
      "/var/folders/my/fr92fdxj5bl8w7ld3nv3s8p00000gn/T/ipykernel_13789/3155496935.py:2: SettingWithCopyWarning: \n",
      "A value is trying to be set on a copy of a slice from a DataFrame.\n",
      "Try using .loc[row_indexer,col_indexer] = value instead\n",
      "\n",
      "See the caveats in the documentation: https://pandas.pydata.org/pandas-docs/stable/user_guide/indexing.html#returning-a-view-versus-a-copy\n",
      "  news['text'] = news['title'] + '. ' + news['content']\n",
      "/var/folders/my/fr92fdxj5bl8w7ld3nv3s8p00000gn/T/ipykernel_13789/3155496935.py:3: SettingWithCopyWarning: \n",
      "A value is trying to be set on a copy of a slice from a DataFrame.\n",
      "Try using .loc[row_indexer,col_indexer] = value instead\n",
      "\n",
      "See the caveats in the documentation: https://pandas.pydata.org/pandas-docs/stable/user_guide/indexing.html#returning-a-view-versus-a-copy\n",
      "  news['rating'] = news['publication'].map(get_media_bias)\n"
     ]
    }
   ],
   "source": [
    "write_news(validation_news, 'data/valid.csv')"
   ]
  },
  {
   "cell_type": "code",
   "execution_count": null,
   "metadata": {},
   "outputs": [],
   "source": []
  }
 ],
 "metadata": {
  "kernelspec": {
   "display_name": "Python 3 (ipykernel)",
   "language": "python",
   "name": "python3"
  },
  "language_info": {
   "codemirror_mode": {
    "name": "ipython",
    "version": 3
   },
   "file_extension": ".py",
   "mimetype": "text/x-python",
   "name": "python",
   "nbconvert_exporter": "python",
   "pygments_lexer": "ipython3",
   "version": "3.8.9"
  }
 },
 "nbformat": 4,
 "nbformat_minor": 4
}
