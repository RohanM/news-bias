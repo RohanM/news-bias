{
 "cells": [
  {
   "cell_type": "code",
   "execution_count": 1,
   "id": "3995e19b",
   "metadata": {},
   "outputs": [],
   "source": [
    "import requests\n",
    "from bs4 import BeautifulSoup\n",
    "import csv"
   ]
  },
  {
   "cell_type": "code",
   "execution_count": 2,
   "id": "c4dd90cd",
   "metadata": {},
   "outputs": [],
   "source": [
    "url = 'https://www.allsides.com/media-bias/ratings'"
   ]
  },
  {
   "cell_type": "code",
   "execution_count": 9,
   "id": "1319a8e0",
   "metadata": {},
   "outputs": [],
   "source": [
    "bias_rating = {\n",
    "    'left': -1,\n",
    "    'left-center': -0.5,\n",
    "    'center': 0,\n",
    "    'right-center': 0.5,\n",
    "    'right': 1,\n",
    "}"
   ]
  },
  {
   "cell_type": "code",
   "execution_count": 3,
   "id": "51fe54b2",
   "metadata": {},
   "outputs": [],
   "source": [
    "resp = requests.get(url)\n",
    "if not resp.ok:\n",
    "    print (\"Failed to open: {}\".format(resp.status_code))\n",
    "    print (resp.text)"
   ]
  },
  {
   "cell_type": "code",
   "execution_count": 4,
   "id": "585bd4b9",
   "metadata": {},
   "outputs": [],
   "source": [
    "soup = BeautifulSoup(resp.text, 'html.parser')"
   ]
  },
  {
   "cell_type": "code",
   "execution_count": 5,
   "id": "a197a889",
   "metadata": {},
   "outputs": [],
   "source": [
    "# table.views-table\n",
    "#   tr\n",
    "#     td.views-field-title\n",
    "#     td.views-field-field-bias-image\n",
    "#       a href=\"media-bias/left-center\""
   ]
  },
  {
   "cell_type": "code",
   "execution_count": 6,
   "id": "137d575b",
   "metadata": {},
   "outputs": [],
   "source": [
    "table = soup.find('table', 'views-table')"
   ]
  },
  {
   "cell_type": "code",
   "execution_count": 7,
   "id": "0706bd9b",
   "metadata": {},
   "outputs": [
    {
     "data": {
      "text/plain": [
       "51"
      ]
     },
     "execution_count": 7,
     "metadata": {},
     "output_type": "execute_result"
    }
   ],
   "source": [
    "rows = table.find_all('tr')\n",
    "len(rows)"
   ]
  },
  {
   "cell_type": "code",
   "execution_count": 12,
   "id": "6e96ddd9",
   "metadata": {},
   "outputs": [
    {
     "name": "stdout",
     "output_type": "stream",
     "text": [
      "ABC News (Online) -0.5\n",
      "AlterNet -1\n",
      "Associated Press 0\n",
      "Axios 0\n",
      "BBC News 0\n",
      "Bloomberg -0.5\n",
      "Breitbart News 1\n",
      "BuzzFeed News -1\n",
      "CBS News (Online) -0.5\n",
      "Christian Science Monitor 0\n",
      "CNN (Online News) -1\n",
      "CNN (Opinion) -1\n",
      "Daily Beast -1\n",
      "Daily Mail 1\n",
      "Democracy Now -1\n",
      "Forbes 0\n",
      "Fox News (Online News) 1\n",
      "Fox News (Opinion) 1\n",
      "HuffPost -1\n",
      "Mother Jones -1\n",
      "MSNBC -1\n",
      "National Review 1\n",
      "NBC News (Online) -0.5\n",
      "New York Post (News) 0.5\n",
      "New York Times (News) -0.5\n",
      "New York Times (Opinion) -1\n",
      "Newsweek 0\n",
      "NPR (Online News) -0.5\n",
      "NPR (Opinion) -0.5\n",
      "Politico -0.5\n",
      "Reason 0.5\n",
      "Reuters 0\n",
      "Slate -1\n",
      "The American Spectator 1\n",
      "The Atlantic -0.5\n",
      "The Blaze 1\n",
      "The Daily Caller 1\n",
      "The Daily Wire 1\n",
      "The Economist -0.5\n",
      "The Epoch Times 0.5\n",
      "The Federalist 1\n",
      "The Guardian -0.5\n",
      "The Hill 0\n",
      "The Intercept -1\n",
      "The New Yorker -1\n",
      "Time Magazine -0.5\n",
      "USA TODAY -0.5\n",
      "Vox -1\n",
      "Wall Street Journal (News) 0\n",
      "Wall Street Journal (Opinion) 0.5\n"
     ]
    }
   ],
   "source": [
    "data = []\n",
    "for row in rows[1:]:\n",
    "    title = row.find('td', 'views-field-title').get_text().strip()\n",
    "    bias = row.find('td', 'views-field-field-bias-image').find('a')['href']\n",
    "    bias = bias.replace('/media-bias/', '')\n",
    "    print(title, bias_rating[bias])\n",
    "    data.append((title, bias_rating[bias]))"
   ]
  },
  {
   "cell_type": "code",
   "execution_count": 15,
   "id": "0bf5ac9a",
   "metadata": {},
   "outputs": [],
   "source": [
    "with open('media-bias.csv', 'w') as csvfile:\n",
    "    writer = csv.writer(csvfile)\n",
    "    for row in data:\n",
    "        writer.writerow(row)"
   ]
  },
  {
   "cell_type": "code",
   "execution_count": null,
   "id": "a133c5e3",
   "metadata": {},
   "outputs": [],
   "source": []
  }
 ],
 "metadata": {
  "kernelspec": {
   "display_name": "Python 3 (ipykernel)",
   "language": "python",
   "name": "python3"
  },
  "language_info": {
   "codemirror_mode": {
    "name": "ipython",
    "version": 3
   },
   "file_extension": ".py",
   "mimetype": "text/x-python",
   "name": "python",
   "nbconvert_exporter": "python",
   "pygments_lexer": "ipython3",
   "version": "3.8.10"
  }
 },
 "nbformat": 4,
 "nbformat_minor": 5
}
