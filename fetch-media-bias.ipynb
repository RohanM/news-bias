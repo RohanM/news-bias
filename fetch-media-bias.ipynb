{
 "cells": [
  {
   "cell_type": "code",
   "execution_count": 1,
   "metadata": {},
   "outputs": [],
   "source": [
    "# table.views-table\n",
    "#   tr\n",
    "#     td.views-field-title\n",
    "#     td.views-field-field-bias-image\n",
    "#       a href=\"media-bias/left-center\""
   ]
  },
  {
   "cell_type": "code",
   "execution_count": 2,
   "metadata": {},
   "outputs": [],
   "source": [
    "import requests\n",
    "from bs4 import BeautifulSoup\n",
    "import csv"
   ]
  },
  {
   "cell_type": "code",
   "execution_count": 3,
   "metadata": {},
   "outputs": [],
   "source": [
    "#url = 'https://www.allsides.com/media-bias/ratings'"
   ]
  },
  {
   "cell_type": "code",
   "execution_count": 4,
   "metadata": {},
   "outputs": [],
   "source": [
    "url = 'https://www.allsides.com/media-bias/ratings?field_featured_bias_rating_value=All&field_news_source_type_tid%5B%5D=2&field_news_source_type_tid%5B%5D=3&field_news_source_type_tid%5B%5D=4&field_news_bias_nid_1%5B1%5D=1&field_news_bias_nid_1%5B2%5D=2&field_news_bias_nid_1%5B3%5D=3&title='"
   ]
  },
  {
   "cell_type": "code",
   "execution_count": 5,
   "metadata": {},
   "outputs": [],
   "source": [
    "bias_rating = {\n",
    "    'left': -1,\n",
    "    'left-center': -0.5,\n",
    "    'center': 0,\n",
    "    'allsides': 0,\n",
    "    'right-center': 0.5,\n",
    "    'right': 1,\n",
    "}"
   ]
  },
  {
   "cell_type": "code",
   "execution_count": 6,
   "metadata": {},
   "outputs": [],
   "source": [
    "def get_page(page=0):\n",
    "    full_url = f'{url}&page={page}'\n",
    "    res = requests.get(full_url)\n",
    "    if not res.ok:\n",
    "        raise f'Failed to open: {res.status_code}: {res.text}'\n",
    "    return res"
   ]
  },
  {
   "cell_type": "code",
   "execution_count": 7,
   "metadata": {},
   "outputs": [],
   "source": [
    "def get_rows(text):\n",
    "    try:\n",
    "        soup = BeautifulSoup(text, 'html.parser')\n",
    "        table = soup.find('table', 'views-table')\n",
    "        return table.find_all('tr')\n",
    "    except AttributeError:\n",
    "        return []"
   ]
  },
  {
   "cell_type": "code",
   "execution_count": 8,
   "metadata": {},
   "outputs": [],
   "source": [
    "def parse_table_row(row):\n",
    "    title = row.find('td', 'views-field-title').get_text().strip()\n",
    "    bias = row.find('td', 'views-field-field-bias-image').find('a')['href']\n",
    "    bias = bias.replace('/media-bias/', '')\n",
    "    return (title, bias_rating[bias])"
   ]
  },
  {
   "cell_type": "code",
   "execution_count": 9,
   "metadata": {},
   "outputs": [],
   "source": [
    "def read_page(page=0):\n",
    "    res = get_page(page)\n",
    "    rows = get_rows(res.text)\n",
    "    return [parse_table_row(row) for row in rows[1:]]"
   ]
  },
  {
   "cell_type": "code",
   "execution_count": 10,
   "metadata": {},
   "outputs": [
    {
     "name": "stdout",
     "output_type": "stream",
     "text": [
      "Got 50 rows for page 0\n",
      "Got 50 rows for page 1\n",
      "Got 50 rows for page 2\n",
      "Got 50 rows for page 3\n",
      "Got 50 rows for page 4\n",
      "Got 50 rows for page 5\n",
      "Got 50 rows for page 6\n",
      "Got 50 rows for page 7\n",
      "Got 50 rows for page 8\n",
      "Got 50 rows for page 9\n",
      "Got 50 rows for page 10\n",
      "Got 46 rows for page 11\n"
     ]
    }
   ],
   "source": [
    "page = 0\n",
    "with open('media-bias.csv', 'w') as csvfile:\n",
    "    writer = csv.writer(csvfile)\n",
    "    \n",
    "    data = read_page(page)\n",
    "    while len(data) > 0:\n",
    "        print(f'Got {len(data)} rows for page {page}')\n",
    "        for row in data:\n",
    "            writer.writerow(row)\n",
    "        page += 1\n",
    "        data = read_page(page)"
   ]
  },
  {
   "cell_type": "code",
   "execution_count": null,
   "metadata": {},
   "outputs": [],
   "source": []
  }
 ],
 "metadata": {
  "kernelspec": {
   "display_name": "Python 3",
   "language": "python",
   "name": "python3"
  },
  "language_info": {
   "codemirror_mode": {
    "name": "ipython",
    "version": 3
   },
   "file_extension": ".py",
   "mimetype": "text/x-python",
   "name": "python",
   "nbconvert_exporter": "python",
   "pygments_lexer": "ipython3",
   "version": "3.8.10"
  }
 },
 "nbformat": 4,
 "nbformat_minor": 5
}
