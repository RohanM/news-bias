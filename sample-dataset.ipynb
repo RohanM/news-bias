{
 "cells": [
  {
   "cell_type": "markdown",
   "id": "ca75db06",
   "metadata": {},
   "source": [
    "Sometimes we want to sample a larger dataset down to a smaller one, while keeping an even distribution between different categories"
   ]
  },
  {
   "cell_type": "code",
   "execution_count": 15,
   "id": "c9247214",
   "metadata": {},
   "outputs": [],
   "source": [
    "import pandas as pd"
   ]
  },
  {
   "cell_type": "code",
   "execution_count": 16,
   "id": "68b5db0b",
   "metadata": {},
   "outputs": [],
   "source": [
    "def sample_dataset(input_filename, output_filename, num_per_rating):\n",
    "    df = pd.read_csv(input_filename)\n",
    "    output = df.groupby('rating').apply(lambda x: x.sample(n=num_per_rating)).reset_index(drop = True).sample(frac=1)\n",
    "    output.to_csv(output_filename, index=False)"
   ]
  },
  {
   "cell_type": "markdown",
   "id": "a2746b21",
   "metadata": {},
   "source": [
    "## Micro"
   ]
  },
  {
   "cell_type": "code",
   "execution_count": 17,
   "id": "5f90029c",
   "metadata": {},
   "outputs": [],
   "source": [
    "sample_dataset('data/train.csv', 'data/train-micro.csv', 128)"
   ]
  },
  {
   "cell_type": "code",
   "execution_count": 18,
   "id": "438b2548",
   "metadata": {},
   "outputs": [],
   "source": [
    "sample_dataset('data/valid.csv', 'data/valid-micro.csv', 64)"
   ]
  },
  {
   "cell_type": "markdown",
   "id": "fe74dfb9",
   "metadata": {},
   "source": [
    "## Mini"
   ]
  },
  {
   "cell_type": "code",
   "execution_count": 8,
   "id": "78334e43",
   "metadata": {},
   "outputs": [
    {
     "data": {
      "text/html": [
       "<div>\n",
       "<style scoped>\n",
       "    .dataframe tbody tr th:only-of-type {\n",
       "        vertical-align: middle;\n",
       "    }\n",
       "\n",
       "    .dataframe tbody tr th {\n",
       "        vertical-align: top;\n",
       "    }\n",
       "\n",
       "    .dataframe thead th {\n",
       "        text-align: right;\n",
       "    }\n",
       "</style>\n",
       "<table border=\"1\" class=\"dataframe\">\n",
       "  <thead>\n",
       "    <tr style=\"text-align: right;\">\n",
       "      <th></th>\n",
       "      <th>text</th>\n",
       "    </tr>\n",
       "    <tr>\n",
       "      <th>rating</th>\n",
       "      <th></th>\n",
       "    </tr>\n",
       "  </thead>\n",
       "  <tbody>\n",
       "    <tr>\n",
       "      <th>-1.0</th>\n",
       "      <td>237</td>\n",
       "    </tr>\n",
       "    <tr>\n",
       "      <th>-0.5</th>\n",
       "      <td>265</td>\n",
       "    </tr>\n",
       "    <tr>\n",
       "      <th>0.0</th>\n",
       "      <td>932</td>\n",
       "    </tr>\n",
       "    <tr>\n",
       "      <th>1.0</th>\n",
       "      <td>330</td>\n",
       "    </tr>\n",
       "  </tbody>\n",
       "</table>\n",
       "</div>"
      ],
      "text/plain": [
       "        text\n",
       "rating      \n",
       "-1.0     237\n",
       "-0.5     265\n",
       " 0.0     932\n",
       " 1.0     330"
      ]
     },
     "execution_count": 8,
     "metadata": {},
     "output_type": "execute_result"
    }
   ],
   "source": [
    "df = pd.read_csv('data/train-mini.csv')\n",
    "df.groupby('rating').count()"
   ]
  },
  {
   "cell_type": "code",
   "execution_count": 9,
   "id": "63b09fef",
   "metadata": {},
   "outputs": [
    {
     "data": {
      "text/html": [
       "<div>\n",
       "<style scoped>\n",
       "    .dataframe tbody tr th:only-of-type {\n",
       "        vertical-align: middle;\n",
       "    }\n",
       "\n",
       "    .dataframe tbody tr th {\n",
       "        vertical-align: top;\n",
       "    }\n",
       "\n",
       "    .dataframe thead th {\n",
       "        text-align: right;\n",
       "    }\n",
       "</style>\n",
       "<table border=\"1\" class=\"dataframe\">\n",
       "  <thead>\n",
       "    <tr style=\"text-align: right;\">\n",
       "      <th></th>\n",
       "      <th>text</th>\n",
       "    </tr>\n",
       "    <tr>\n",
       "      <th>rating</th>\n",
       "      <th></th>\n",
       "    </tr>\n",
       "  </thead>\n",
       "  <tbody>\n",
       "    <tr>\n",
       "      <th>-1.0</th>\n",
       "      <td>44</td>\n",
       "    </tr>\n",
       "    <tr>\n",
       "      <th>-0.5</th>\n",
       "      <td>113</td>\n",
       "    </tr>\n",
       "    <tr>\n",
       "      <th>0.0</th>\n",
       "      <td>199</td>\n",
       "    </tr>\n",
       "    <tr>\n",
       "      <th>1.0</th>\n",
       "      <td>179</td>\n",
       "    </tr>\n",
       "  </tbody>\n",
       "</table>\n",
       "</div>"
      ],
      "text/plain": [
       "        text\n",
       "rating      \n",
       "-1.0      44\n",
       "-0.5     113\n",
       " 0.0     199\n",
       " 1.0     179"
      ]
     },
     "execution_count": 9,
     "metadata": {},
     "output_type": "execute_result"
    }
   ],
   "source": [
    "df = pd.read_csv('data/valid-mini.csv')\n",
    "df.groupby('rating').count()"
   ]
  },
  {
   "cell_type": "code",
   "execution_count": 19,
   "id": "054f317f",
   "metadata": {},
   "outputs": [],
   "source": [
    "sample_dataset('data/train.csv', 'data/train-mini.csv', 256)"
   ]
  },
  {
   "cell_type": "code",
   "execution_count": 20,
   "id": "b2a60d04",
   "metadata": {},
   "outputs": [],
   "source": [
    "sample_dataset('data/valid.csv', 'data/valid-mini.csv', 128)"
   ]
  },
  {
   "cell_type": "code",
   "execution_count": null,
   "id": "a1773470",
   "metadata": {},
   "outputs": [],
   "source": []
  }
 ],
 "metadata": {
  "kernelspec": {
   "display_name": "Python 3 (ipykernel)",
   "language": "python",
   "name": "python3"
  },
  "language_info": {
   "codemirror_mode": {
    "name": "ipython",
    "version": 3
   },
   "file_extension": ".py",
   "mimetype": "text/x-python",
   "name": "python",
   "nbconvert_exporter": "python",
   "pygments_lexer": "ipython3",
   "version": "3.8.9"
  }
 },
 "nbformat": 4,
 "nbformat_minor": 5
}
